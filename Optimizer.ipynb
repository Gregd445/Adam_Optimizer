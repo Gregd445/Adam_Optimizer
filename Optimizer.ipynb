{
 "cells": [
  {
   "cell_type": "code",
   "execution_count": 5,
   "metadata": {},
   "outputs": [],
   "source": [
    "## link to paper https://arxiv.org/abs/1412.6980"
   ]
  },
  {
   "cell_type": "code",
   "execution_count": 7,
   "metadata": {},
   "outputs": [],
   "source": [
    "import numpy as np\n",
    "from tinygrad.tensor import Tensor"
   ]
  },
  {
   "cell_type": "code",
   "execution_count": 9,
   "metadata": {},
   "outputs": [],
   "source": [
    "class Optimizer:\n",
    "  def __init__(self, params):\n",
    "    self.params = params\n",
    "\n",
    "  def zero_grad(self):\n",
    "    for param in self.params:\n",
    "      param.grad = None\n",
    "\n",
    "class SGD(Optimizer):\n",
    "  def __init__(self, params, lr=0.001):\n",
    "    super(SGD, self).__init__(params)\n",
    "    self.lr = Tensor([lr], gpu=params[0].gpu)\n",
    "\n",
    "  def step(self):\n",
    "    for t in self.params:\n",
    "      t -= t.grad * self.lr\n",
    "\n",
    "class RMSprop(Optimizer):\n",
    "  def __init__(self, params, lr=0.001, decay=0.9, eps=1e-8):\n",
    "    super(RMSprop, self).__init__(params)\n",
    "    self.lr = Tensor([lr], gpu=params[0].gpu)\n",
    "    self.decay = Tensor([decay], gpu=params[0].gpu)\n",
    "    self.eps = Tensor([eps], gpu=params[0].gpu)\n",
    "\n",
    "    self.v = [Tensor(np.zeros(t.shape, dtype=np.float32), gpu=params[0].gpu) for t in self.params]\n",
    "\n",
    "    self.one = Tensor([1], gpu=self.params[0].gpu)\n",
    "    self.two = Tensor([2], gpu=self.params[0].gpu)\n",
    "\n",
    "  def step(self):\n",
    "    for i, t in enumerate(self.params):\n",
    "      self.v[i] = self.decay * self.v[i] + (self.one - self.decay) * t.grad.pow(self.two)\n",
    "      t -= self.lr.div(self.v[i].sqrt() + self.eps) * t.grad\n",
    "\n",
    "class Adam(Optimizer):\n",
    "  def __init__(self, params, lr=0.001, b1=0.9, b2=0.999, eps=1e-8):\n",
    "    super(Adam, self).__init__(params)\n",
    "    self.lr = Tensor([lr], gpu=params[0].gpu)\n",
    "    self.b1 = Tensor([b1], gpu=params[0].gpu)\n",
    "    self.b2 = Tensor([b2], gpu=params[0].gpu)\n",
    "    self.eps = Tensor([eps], gpu=params[0].gpu)\n",
    "    self.t = Tensor([0], gpu=params[0].gpu)\n",
    "\n",
    "    self.m = [Tensor(np.zeros(t.shape, dtype=np.float32), gpu=params[0].gpu) for t in self.params]\n",
    "    self.v = [Tensor(np.zeros(t.shape, dtype=np.float32), gpu=params[0].gpu) for t in self.params]\n",
    "\n",
    "    self.one = Tensor([1], gpu=self.params[0].gpu)\n",
    "    self.two = Tensor([2], gpu=self.params[0].gpu)\n",
    "\n",
    "  def step(self):\n",
    "    self.t = self.t + self.one\n",
    "    a = self.lr * (self.one - self.b2.pow(self.t)).sqrt().div(self.one - self.b1.pow(self.t))\n",
    "    for i,t in enumerate(self.params):\n",
    "      self.m[i] = self.b1 * self.m[i] + (self.one - self.b1) * t.grad\n",
    "      self.v[i] = self.b2 * self.v[i] + (self.one - self.b2) * t.grad.pow(self.two)\n",
    "      t -= a * self.m[i].div(self.v[i].sqrt() + self.eps)"
   ]
  },
  {
   "cell_type": "code",
   "execution_count": null,
   "metadata": {},
   "outputs": [],
   "source": []
  }
 ],
 "metadata": {
  "kernelspec": {
   "display_name": "Python 3",
   "language": "python",
   "name": "python3"
  },
  "language_info": {
   "codemirror_mode": {
    "name": "ipython",
    "version": 3
   },
   "file_extension": ".py",
   "mimetype": "text/x-python",
   "name": "python",
   "nbconvert_exporter": "python",
   "pygments_lexer": "ipython3",
   "version": "3.8.5"
  }
 },
 "nbformat": 4,
 "nbformat_minor": 4
}
